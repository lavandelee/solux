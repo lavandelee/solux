{
  "nbformat": 4,
  "nbformat_minor": 0,
  "metadata": {
    "colab": {
      "provenance": []
    },
    "kernelspec": {
      "name": "python3",
      "display_name": "Python 3"
    },
    "language_info": {
      "name": "python"
    },
    "gpuClass": "standard"
  },
  "cells": [
    {
      "cell_type": "code",
      "execution_count": null,
      "metadata": {
        "id": "cB_Uh5NMhFpA"
      },
      "outputs": [],
      "source": [
        "import pandas as pd\n",
        "import numpy as np\n",
        "import seaborn as sns\n",
        "import matplotlib\n",
        "import matplotlib.pyplot as plt\n",
        "df = pd.read_csv('/content/drive/MyDrive/최종 프로젝트 데이터/test.csv',encoding='cp949',index_col=0)"
      ]
    },
    {
      "cell_type": "code",
      "source": [
        "print(df.head())"
      ],
      "metadata": {
        "id": "Jxo0CtASiwD_",
        "colab": {
          "base_uri": "https://localhost:8080/"
        },
        "outputId": "e6a9394a-3033-4b24-845d-b4ab8e0b4345"
      },
      "execution_count": null,
      "outputs": [
        {
          "output_type": "stream",
          "name": "stdout",
          "text": [
            "            distributor   genre release_time  time screening_rat director  \\\n",
            "title                                                                       \n",
            "용서는 없다           시네마서비스     느와르   2010-01-07   125      청소년 관람불가      김형준   \n",
            "아빠가 여자를 좋아해      (주)쇼박스  멜로/로맨스   2010-01-14   113       12세 관람가      이광재   \n",
            "하모니           CJ 엔터테인먼트     드라마   2010-01-28   115       12세 관람가      강대규   \n",
            "의형제              (주)쇼박스      액션   2010-02-04   116       15세 관람가       장훈   \n",
            "평행 이론         CJ 엔터테인먼트      공포   2010-02-18   110       15세 관람가      권호영   \n",
            "\n",
            "             dir_prev_bfnum  dir_prev_num  num_staff  num_actor  \n",
            "title                                                            \n",
            "용서는 없다           300529.000             2        304          3  \n",
            "아빠가 여자를 좋아해      342700.250             4        275          3  \n",
            "하모니             4206610.667             3        419          7  \n",
            "의형제              691342.000             2        408          2  \n",
            "평행 이론             31738.000             1        380          1  \n"
          ]
        }
      ]
    },
    {
      "cell_type": "markdown",
      "source": [
        "# 1-1. 각 feature들에 대한 분석 "
      ],
      "metadata": {
        "id": "T4Y011Q6CW-o"
      }
    },
    {
      "cell_type": "code",
      "source": [
        "print(df.info())"
      ],
      "metadata": {
        "id": "3r_EGOxZl3q6",
        "colab": {
          "base_uri": "https://localhost:8080/"
        },
        "outputId": "deaecdf9-3385-4258-d527-41d24a5c9b8b"
      },
      "execution_count": null,
      "outputs": [
        {
          "output_type": "stream",
          "name": "stdout",
          "text": [
            "<class 'pandas.core.frame.DataFrame'>\n",
            "Index: 107 entries, 용서는 없다 to 말하지 못한 비밀\n",
            "Data columns (total 10 columns):\n",
            " #   Column          Non-Null Count  Dtype  \n",
            "---  ------          --------------  -----  \n",
            " 0   distributor     107 non-null    object \n",
            " 1   genre           107 non-null    object \n",
            " 2   release_time    107 non-null    object \n",
            " 3   time            107 non-null    int64  \n",
            " 4   screening_rat   107 non-null    object \n",
            " 5   director        107 non-null    object \n",
            " 6   dir_prev_bfnum  107 non-null    float64\n",
            " 7   dir_prev_num    107 non-null    int64  \n",
            " 8   num_staff       107 non-null    int64  \n",
            " 9   num_actor       107 non-null    int64  \n",
            "dtypes: float64(1), int64(4), object(5)\n",
            "memory usage: 9.2+ KB\n",
            "None\n"
          ]
        }
      ]
    },
    {
      "cell_type": "markdown",
      "source": [
        "# 1-2. 기술통계량 확인"
      ],
      "metadata": {
        "id": "tEydhsf8Cb6M"
      }
    },
    {
      "cell_type": "code",
      "source": [
        "df.describe()"
      ],
      "metadata": {
        "id": "pDEyDTp-mJWC",
        "colab": {
          "base_uri": "https://localhost:8080/",
          "height": 300
        },
        "outputId": "5033109e-ab59-4dc1-d38a-7186532f80c1"
      },
      "execution_count": null,
      "outputs": [
        {
          "output_type": "execute_result",
          "data": {
            "text/plain": [
              "             time  dir_prev_bfnum  dir_prev_num   num_staff   num_actor\n",
              "count  107.000000    1.070000e+02    107.000000  107.000000  107.000000\n",
              "mean   107.887850    8.916695e+05      1.934579  234.065421    3.588785\n",
              "std     18.021123    1.217341e+06      1.083940  183.211254    2.118888\n",
              "min     70.000000    3.400000e+01      1.000000    0.000000    0.000000\n",
              "25%     95.000000    6.250200e+04      1.000000   58.000000    2.000000\n",
              "50%    110.000000    4.931200e+05      2.000000  241.000000    3.000000\n",
              "75%    119.000000    1.080850e+06      3.000000  375.000000    4.000000\n",
              "max    198.000000    6.173100e+06      6.000000  776.000000   16.000000"
            ],
            "text/html": [
              "\n",
              "  <div id=\"df-723c59f1-2992-49f5-ba27-72e8cce96a8e\">\n",
              "    <div class=\"colab-df-container\">\n",
              "      <div>\n",
              "<style scoped>\n",
              "    .dataframe tbody tr th:only-of-type {\n",
              "        vertical-align: middle;\n",
              "    }\n",
              "\n",
              "    .dataframe tbody tr th {\n",
              "        vertical-align: top;\n",
              "    }\n",
              "\n",
              "    .dataframe thead th {\n",
              "        text-align: right;\n",
              "    }\n",
              "</style>\n",
              "<table border=\"1\" class=\"dataframe\">\n",
              "  <thead>\n",
              "    <tr style=\"text-align: right;\">\n",
              "      <th></th>\n",
              "      <th>time</th>\n",
              "      <th>dir_prev_bfnum</th>\n",
              "      <th>dir_prev_num</th>\n",
              "      <th>num_staff</th>\n",
              "      <th>num_actor</th>\n",
              "    </tr>\n",
              "  </thead>\n",
              "  <tbody>\n",
              "    <tr>\n",
              "      <th>count</th>\n",
              "      <td>107.000000</td>\n",
              "      <td>1.070000e+02</td>\n",
              "      <td>107.000000</td>\n",
              "      <td>107.000000</td>\n",
              "      <td>107.000000</td>\n",
              "    </tr>\n",
              "    <tr>\n",
              "      <th>mean</th>\n",
              "      <td>107.887850</td>\n",
              "      <td>8.916695e+05</td>\n",
              "      <td>1.934579</td>\n",
              "      <td>234.065421</td>\n",
              "      <td>3.588785</td>\n",
              "    </tr>\n",
              "    <tr>\n",
              "      <th>std</th>\n",
              "      <td>18.021123</td>\n",
              "      <td>1.217341e+06</td>\n",
              "      <td>1.083940</td>\n",
              "      <td>183.211254</td>\n",
              "      <td>2.118888</td>\n",
              "    </tr>\n",
              "    <tr>\n",
              "      <th>min</th>\n",
              "      <td>70.000000</td>\n",
              "      <td>3.400000e+01</td>\n",
              "      <td>1.000000</td>\n",
              "      <td>0.000000</td>\n",
              "      <td>0.000000</td>\n",
              "    </tr>\n",
              "    <tr>\n",
              "      <th>25%</th>\n",
              "      <td>95.000000</td>\n",
              "      <td>6.250200e+04</td>\n",
              "      <td>1.000000</td>\n",
              "      <td>58.000000</td>\n",
              "      <td>2.000000</td>\n",
              "    </tr>\n",
              "    <tr>\n",
              "      <th>50%</th>\n",
              "      <td>110.000000</td>\n",
              "      <td>4.931200e+05</td>\n",
              "      <td>2.000000</td>\n",
              "      <td>241.000000</td>\n",
              "      <td>3.000000</td>\n",
              "    </tr>\n",
              "    <tr>\n",
              "      <th>75%</th>\n",
              "      <td>119.000000</td>\n",
              "      <td>1.080850e+06</td>\n",
              "      <td>3.000000</td>\n",
              "      <td>375.000000</td>\n",
              "      <td>4.000000</td>\n",
              "    </tr>\n",
              "    <tr>\n",
              "      <th>max</th>\n",
              "      <td>198.000000</td>\n",
              "      <td>6.173100e+06</td>\n",
              "      <td>6.000000</td>\n",
              "      <td>776.000000</td>\n",
              "      <td>16.000000</td>\n",
              "    </tr>\n",
              "  </tbody>\n",
              "</table>\n",
              "</div>\n",
              "      <button class=\"colab-df-convert\" onclick=\"convertToInteractive('df-723c59f1-2992-49f5-ba27-72e8cce96a8e')\"\n",
              "              title=\"Convert this dataframe to an interactive table.\"\n",
              "              style=\"display:none;\">\n",
              "        \n",
              "  <svg xmlns=\"http://www.w3.org/2000/svg\" height=\"24px\"viewBox=\"0 0 24 24\"\n",
              "       width=\"24px\">\n",
              "    <path d=\"M0 0h24v24H0V0z\" fill=\"none\"/>\n",
              "    <path d=\"M18.56 5.44l.94 2.06.94-2.06 2.06-.94-2.06-.94-.94-2.06-.94 2.06-2.06.94zm-11 1L8.5 8.5l.94-2.06 2.06-.94-2.06-.94L8.5 2.5l-.94 2.06-2.06.94zm10 10l.94 2.06.94-2.06 2.06-.94-2.06-.94-.94-2.06-.94 2.06-2.06.94z\"/><path d=\"M17.41 7.96l-1.37-1.37c-.4-.4-.92-.59-1.43-.59-.52 0-1.04.2-1.43.59L10.3 9.45l-7.72 7.72c-.78.78-.78 2.05 0 2.83L4 21.41c.39.39.9.59 1.41.59.51 0 1.02-.2 1.41-.59l7.78-7.78 2.81-2.81c.8-.78.8-2.07 0-2.86zM5.41 20L4 18.59l7.72-7.72 1.47 1.35L5.41 20z\"/>\n",
              "  </svg>\n",
              "      </button>\n",
              "      \n",
              "  <style>\n",
              "    .colab-df-container {\n",
              "      display:flex;\n",
              "      flex-wrap:wrap;\n",
              "      gap: 12px;\n",
              "    }\n",
              "\n",
              "    .colab-df-convert {\n",
              "      background-color: #E8F0FE;\n",
              "      border: none;\n",
              "      border-radius: 50%;\n",
              "      cursor: pointer;\n",
              "      display: none;\n",
              "      fill: #1967D2;\n",
              "      height: 32px;\n",
              "      padding: 0 0 0 0;\n",
              "      width: 32px;\n",
              "    }\n",
              "\n",
              "    .colab-df-convert:hover {\n",
              "      background-color: #E2EBFA;\n",
              "      box-shadow: 0px 1px 2px rgba(60, 64, 67, 0.3), 0px 1px 3px 1px rgba(60, 64, 67, 0.15);\n",
              "      fill: #174EA6;\n",
              "    }\n",
              "\n",
              "    [theme=dark] .colab-df-convert {\n",
              "      background-color: #3B4455;\n",
              "      fill: #D2E3FC;\n",
              "    }\n",
              "\n",
              "    [theme=dark] .colab-df-convert:hover {\n",
              "      background-color: #434B5C;\n",
              "      box-shadow: 0px 1px 3px 1px rgba(0, 0, 0, 0.15);\n",
              "      filter: drop-shadow(0px 1px 2px rgba(0, 0, 0, 0.3));\n",
              "      fill: #FFFFFF;\n",
              "    }\n",
              "  </style>\n",
              "\n",
              "      <script>\n",
              "        const buttonEl =\n",
              "          document.querySelector('#df-723c59f1-2992-49f5-ba27-72e8cce96a8e button.colab-df-convert');\n",
              "        buttonEl.style.display =\n",
              "          google.colab.kernel.accessAllowed ? 'block' : 'none';\n",
              "\n",
              "        async function convertToInteractive(key) {\n",
              "          const element = document.querySelector('#df-723c59f1-2992-49f5-ba27-72e8cce96a8e');\n",
              "          const dataTable =\n",
              "            await google.colab.kernel.invokeFunction('convertToInteractive',\n",
              "                                                     [key], {});\n",
              "          if (!dataTable) return;\n",
              "\n",
              "          const docLinkHtml = 'Like what you see? Visit the ' +\n",
              "            '<a target=\"_blank\" href=https://colab.research.google.com/notebooks/data_table.ipynb>data table notebook</a>'\n",
              "            + ' to learn more about interactive tables.';\n",
              "          element.innerHTML = '';\n",
              "          dataTable['output_type'] = 'display_data';\n",
              "          await google.colab.output.renderOutput(dataTable, element);\n",
              "          const docLink = document.createElement('div');\n",
              "          docLink.innerHTML = docLinkHtml;\n",
              "          element.appendChild(docLink);\n",
              "        }\n",
              "      </script>\n",
              "    </div>\n",
              "  </div>\n",
              "  "
            ]
          },
          "metadata": {},
          "execution_count": 4
        }
      ]
    },
    {
      "cell_type": "markdown",
      "source": [
        "# 1-3. feature 간 상관 관계 확인"
      ],
      "metadata": {
        "id": "wnb3g6sFCMpD"
      }
    },
    {
      "cell_type": "code",
      "source": [
        "plt.scatter(x=df.time, y=df.num_staff)\n",
        "plt.show()"
      ],
      "metadata": {
        "id": "R4D1Ys_RthFr",
        "colab": {
          "base_uri": "https://localhost:8080/",
          "height": 266
        },
        "outputId": "d3cd083a-ab72-4ac8-8d1c-3a8ce31c31ac"
      },
      "execution_count": null,
      "outputs": [
        {
          "output_type": "display_data",
          "data": {
            "text/plain": [
              "<Figure size 432x288 with 1 Axes>"
            ],
            "image/png": "[encoded data removed]"
          },
          "metadata": {
            "needs_background": "light"
          }
        }
      ]
    },
    {
      "cell_type": "markdown",
      "source": [
        "# 2-1. 인코딩 #미해결 (one hot encoding, label encoding..?)"
      ],
      "metadata": {
        "id": "aZjCrT9SChpE"
      }
    },
    {
      "cell_type": "code",
      "source": [
        "df.to_csv('/content/drive/MyDrive/최종 프로젝트 데이터/test.csv',encoding='cp949')\n",
        "df"
      ],
      "metadata": {
        "id": "4fp8jyXS7VT8",
        "colab": {
          "base_uri": "https://localhost:8080/",
          "height": 455
        },
        "outputId": "687bfba8-5a68-463a-b340-28c03333640b"
      },
      "execution_count": null,
      "outputs": [
        {
          "output_type": "execute_result",
          "data": {
            "text/plain": [
              "               distributor   genre release_time  time screening_rat director  \\\n",
              "title                                                                          \n",
              "용서는 없다              시네마서비스     느와르   2010-01-07   125      청소년 관람불가      김형준   \n",
              "아빠가 여자를 좋아해         (주)쇼박스  멜로/로맨스   2010-01-14   113       12세 관람가      이광재   \n",
              "하모니              CJ 엔터테인먼트     드라마   2010-01-28   115       12세 관람가      강대규   \n",
              "의형제                 (주)쇼박스      액션   2010-02-04   116       15세 관람가       장훈   \n",
              "평행 이론            CJ 엔터테인먼트      공포   2010-02-18   110       15세 관람가      권호영   \n",
              "...                    ...     ...          ...   ...           ...      ...   \n",
              "마돈나                 리틀빅픽처스     드라마   2015-07-02   120      청소년 관람불가      신수원   \n",
              "나의 아들, 나의 어머니        인디플러그   다큐멘터리   2015-12-17    70        전체 관람가      안재민   \n",
              "타투                (주)다세포클럽      공포   2015-12-10    92      청소년 관람불가       이서   \n",
              "해에게서 소년에게              디씨드     드라마   2015-11-19    78       15세 관람가      안슬기   \n",
              "말하지 못한 비밀      (주)씨타마운틴픽쳐스     드라마   2015-10-22   102      청소년 관람불가      송동윤   \n",
              "\n",
              "               dir_prev_bfnum  dir_prev_num  num_staff  num_actor  \n",
              "title                                                              \n",
              "용서는 없다             300529.000             2        304          3  \n",
              "아빠가 여자를 좋아해        342700.250             4        275          3  \n",
              "하모니               4206610.667             3        419          7  \n",
              "의형제                691342.000             2        408          2  \n",
              "평행 이론               31738.000             1        380          1  \n",
              "...                       ...           ...        ...        ...  \n",
              "마돈나                771699.000             1        126          4  \n",
              "나의 아들, 나의 어머니        3568.000             3          1          2  \n",
              "타투                2099029.000             2        162          4  \n",
              "해에게서 소년에게            2590.000             1          4          4  \n",
              "말하지 못한 비밀           50699.000             1         68          7  \n",
              "\n",
              "[107 rows x 10 columns]"
            ],
            "text/html": [
              "\n",
              "  <div id=\"df-a722f32d-42b1-49ac-b8ad-f8124d17eced\">\n",
              "    <div class=\"colab-df-container\">\n",
              "      <div>\n",
              "<style scoped>\n",
              "    .dataframe tbody tr th:only-of-type {\n",
              "        vertical-align: middle;\n",
              "    }\n",
              "\n",
              "    .dataframe tbody tr th {\n",
              "        vertical-align: top;\n",
              "    }\n",
              "\n",
              "    .dataframe thead th {\n",
              "        text-align: right;\n",
              "    }\n",
              "</style>\n",
              "<table border=\"1\" class=\"dataframe\">\n",
              "  <thead>\n",
              "    <tr style=\"text-align: right;\">\n",
              "      <th></th>\n",
              "      <th>distributor</th>\n",
              "      <th>genre</th>\n",
              "      <th>release_time</th>\n",
              "      <th>time</th>\n",
              "      <th>screening_rat</th>\n",
              "      <th>director</th>\n",
              "      <th>dir_prev_bfnum</th>\n",
              "      <th>dir_prev_num</th>\n",
              "      <th>num_staff</th>\n",
              "      <th>num_actor</th>\n",
              "    </tr>\n",
              "    <tr>\n",
              "      <th>title</th>\n",
              "      <th></th>\n",
              "      <th></th>\n",
              "      <th></th>\n",
              "      <th></th>\n",
              "      <th></th>\n",
              "      <th></th>\n",
              "      <th></th>\n",
              "      <th></th>\n",
              "      <th></th>\n",
              "      <th></th>\n",
              "    </tr>\n",
              "  </thead>\n",
              "  <tbody>\n",
              "    <tr>\n",
              "      <th>용서는 없다</th>\n",
              "      <td>시네마서비스</td>\n",
              "      <td>느와르</td>\n",
              "      <td>2010-01-07</td>\n",
              "      <td>125</td>\n",
              "      <td>청소년 관람불가</td>\n",
              "      <td>김형준</td>\n",
              "      <td>300529.000</td>\n",
              "      <td>2</td>\n",
              "      <td>304</td>\n",
              "      <td>3</td>\n",
              "    </tr>\n",
              "    <tr>\n",
              "      <th>아빠가 여자를 좋아해</th>\n",
              "      <td>(주)쇼박스</td>\n",
              "      <td>멜로/로맨스</td>\n",
              "      <td>2010-01-14</td>\n",
              "      <td>113</td>\n",
              "      <td>12세 관람가</td>\n",
              "      <td>이광재</td>\n",
              "      <td>342700.250</td>\n",
              "      <td>4</td>\n",
              "      <td>275</td>\n",
              "      <td>3</td>\n",
              "    </tr>\n",
              "    <tr>\n",
              "      <th>하모니</th>\n",
              "      <td>CJ 엔터테인먼트</td>\n",
              "      <td>드라마</td>\n",
              "      <td>2010-01-28</td>\n",
              "      <td>115</td>\n",
              "      <td>12세 관람가</td>\n",
              "      <td>강대규</td>\n",
              "      <td>4206610.667</td>\n",
              "      <td>3</td>\n",
              "      <td>419</td>\n",
              "      <td>7</td>\n",
              "    </tr>\n",
              "    <tr>\n",
              "      <th>의형제</th>\n",
              "      <td>(주)쇼박스</td>\n",
              "      <td>액션</td>\n",
              "      <td>2010-02-04</td>\n",
              "      <td>116</td>\n",
              "      <td>15세 관람가</td>\n",
              "      <td>장훈</td>\n",
              "      <td>691342.000</td>\n",
              "      <td>2</td>\n",
              "      <td>408</td>\n",
              "      <td>2</td>\n",
              "    </tr>\n",
              "    <tr>\n",
              "      <th>평행 이론</th>\n",
              "      <td>CJ 엔터테인먼트</td>\n",
              "      <td>공포</td>\n",
              "      <td>2010-02-18</td>\n",
              "      <td>110</td>\n",
              "      <td>15세 관람가</td>\n",
              "      <td>권호영</td>\n",
              "      <td>31738.000</td>\n",
              "      <td>1</td>\n",
              "      <td>380</td>\n",
              "      <td>1</td>\n",
              "    </tr>\n",
              "    <tr>\n",
              "      <th>...</th>\n",
              "      <td>...</td>\n",
              "      <td>...</td>\n",
              "      <td>...</td>\n",
              "      <td>...</td>\n",
              "      <td>...</td>\n",
              "      <td>...</td>\n",
              "      <td>...</td>\n",
              "      <td>...</td>\n",
              "      <td>...</td>\n",
              "      <td>...</td>\n",
              "    </tr>\n",
              "    <tr>\n",
              "      <th>마돈나</th>\n",
              "      <td>리틀빅픽처스</td>\n",
              "      <td>드라마</td>\n",
              "      <td>2015-07-02</td>\n",
              "      <td>120</td>\n",
              "      <td>청소년 관람불가</td>\n",
              "      <td>신수원</td>\n",
              "      <td>771699.000</td>\n",
              "      <td>1</td>\n",
              "      <td>126</td>\n",
              "      <td>4</td>\n",
              "    </tr>\n",
              "    <tr>\n",
              "      <th>나의 아들, 나의 어머니</th>\n",
              "      <td>인디플러그</td>\n",
              "      <td>다큐멘터리</td>\n",
              "      <td>2015-12-17</td>\n",
              "      <td>70</td>\n",
              "      <td>전체 관람가</td>\n",
              "      <td>안재민</td>\n",
              "      <td>3568.000</td>\n",
              "      <td>3</td>\n",
              "      <td>1</td>\n",
              "      <td>2</td>\n",
              "    </tr>\n",
              "    <tr>\n",
              "      <th>타투</th>\n",
              "      <td>(주)다세포클럽</td>\n",
              "      <td>공포</td>\n",
              "      <td>2015-12-10</td>\n",
              "      <td>92</td>\n",
              "      <td>청소년 관람불가</td>\n",
              "      <td>이서</td>\n",
              "      <td>2099029.000</td>\n",
              "      <td>2</td>\n",
              "      <td>162</td>\n",
              "      <td>4</td>\n",
              "    </tr>\n",
              "    <tr>\n",
              "      <th>해에게서 소년에게</th>\n",
              "      <td>디씨드</td>\n",
              "      <td>드라마</td>\n",
              "      <td>2015-11-19</td>\n",
              "      <td>78</td>\n",
              "      <td>15세 관람가</td>\n",
              "      <td>안슬기</td>\n",
              "      <td>2590.000</td>\n",
              "      <td>1</td>\n",
              "      <td>4</td>\n",
              "      <td>4</td>\n",
              "    </tr>\n",
              "    <tr>\n",
              "      <th>말하지 못한 비밀</th>\n",
              "      <td>(주)씨타마운틴픽쳐스</td>\n",
              "      <td>드라마</td>\n",
              "      <td>2015-10-22</td>\n",
              "      <td>102</td>\n",
              "      <td>청소년 관람불가</td>\n",
              "      <td>송동윤</td>\n",
              "      <td>50699.000</td>\n",
              "      <td>1</td>\n",
              "      <td>68</td>\n",
              "      <td>7</td>\n",
              "    </tr>\n",
              "  </tbody>\n",
              "</table>\n",
              "<p>107 rows × 10 columns</p>\n",
              "</div>\n",
              "      <button class=\"colab-df-convert\" onclick=\"convertToInteractive('df-a722f32d-42b1-49ac-b8ad-f8124d17eced')\"\n",
              "              title=\"Convert this dataframe to an interactive table.\"\n",
              "              style=\"display:none;\">\n",
              "        \n",
              "  <svg xmlns=\"http://www.w3.org/2000/svg\" height=\"24px\"viewBox=\"0 0 24 24\"\n",
              "       width=\"24px\">\n",
              "    <path d=\"M0 0h24v24H0V0z\" fill=\"none\"/>\n",
              "    <path d=\"M18.56 5.44l.94 2.06.94-2.06 2.06-.94-2.06-.94-.94-2.06-.94 2.06-2.06.94zm-11 1L8.5 8.5l.94-2.06 2.06-.94-2.06-.94L8.5 2.5l-.94 2.06-2.06.94zm10 10l.94 2.06.94-2.06 2.06-.94-2.06-.94-.94-2.06-.94 2.06-2.06.94z\"/><path d=\"M17.41 7.96l-1.37-1.37c-.4-.4-.92-.59-1.43-.59-.52 0-1.04.2-1.43.59L10.3 9.45l-7.72 7.72c-.78.78-.78 2.05 0 2.83L4 21.41c.39.39.9.59 1.41.59.51 0 1.02-.2 1.41-.59l7.78-7.78 2.81-2.81c.8-.78.8-2.07 0-2.86zM5.41 20L4 18.59l7.72-7.72 1.47 1.35L5.41 20z\"/>\n",
              "  </svg>\n",
              "      </button>\n",
              "      \n",
              "  <style>\n",
              "    .colab-df-container {\n",
              "      display:flex;\n",
              "      flex-wrap:wrap;\n",
              "      gap: 12px;\n",
              "    }\n",
              "\n",
              "    .colab-df-convert {\n",
              "      background-color: #E8F0FE;\n",
              "      border: none;\n",
              "      border-radius: 50%;\n",
              "      cursor: pointer;\n",
              "      display: none;\n",
              "      fill: #1967D2;\n",
              "      height: 32px;\n",
              "      padding: 0 0 0 0;\n",
              "      width: 32px;\n",
              "    }\n",
              "\n",
              "    .colab-df-convert:hover {\n",
              "      background-color: #E2EBFA;\n",
              "      box-shadow: 0px 1px 2px rgba(60, 64, 67, 0.3), 0px 1px 3px 1px rgba(60, 64, 67, 0.15);\n",
              "      fill: #174EA6;\n",
              "    }\n",
              "\n",
              "    [theme=dark] .colab-df-convert {\n",
              "      background-color: #3B4455;\n",
              "      fill: #D2E3FC;\n",
              "    }\n",
              "\n",
              "    [theme=dark] .colab-df-convert:hover {\n",
              "      background-color: #434B5C;\n",
              "      box-shadow: 0px 1px 3px 1px rgba(0, 0, 0, 0.15);\n",
              "      filter: drop-shadow(0px 1px 2px rgba(0, 0, 0, 0.3));\n",
              "      fill: #FFFFFF;\n",
              "    }\n",
              "  </style>\n",
              "\n",
              "      <script>\n",
              "        const buttonEl =\n",
              "          document.querySelector('#df-a722f32d-42b1-49ac-b8ad-f8124d17eced button.colab-df-convert');\n",
              "        buttonEl.style.display =\n",
              "          google.colab.kernel.accessAllowed ? 'block' : 'none';\n",
              "\n",
              "        async function convertToInteractive(key) {\n",
              "          const element = document.querySelector('#df-a722f32d-42b1-49ac-b8ad-f8124d17eced');\n",
              "          const dataTable =\n",
              "            await google.colab.kernel.invokeFunction('convertToInteractive',\n",
              "                                                     [key], {});\n",
              "          if (!dataTable) return;\n",
              "\n",
              "          const docLinkHtml = 'Like what you see? Visit the ' +\n",
              "            '<a target=\"_blank\" href=https://colab.research.google.com/notebooks/data_table.ipynb>data table notebook</a>'\n",
              "            + ' to learn more about interactive tables.';\n",
              "          element.innerHTML = '';\n",
              "          dataTable['output_type'] = 'display_data';\n",
              "          await google.colab.output.renderOutput(dataTable, element);\n",
              "          const docLink = document.createElement('div');\n",
              "          docLink.innerHTML = docLinkHtml;\n",
              "          element.appendChild(docLink);\n",
              "        }\n",
              "      </script>\n",
              "    </div>\n",
              "  </div>\n",
              "  "
            ]
          },
          "metadata": {},
          "execution_count": 6
        }
      ]
    },
    {
      "cell_type": "markdown",
      "source": [
        "#2-2. 결측치 처리 : dropna 메서드 사용 "
      ],
      "metadata": {
        "id": "WOh6-HdCxcBv"
      }
    },
    {
      "cell_type": "code",
      "source": [
        "pd.isnull(df)\n",
        "df"
      ],
      "metadata": {
        "id": "SiiM8YqRAM6o",
        "colab": {
          "base_uri": "https://localhost:8080/",
          "height": 455
        },
        "outputId": "1d3bfaae-b6cc-4e7d-d9de-a0f8d61aabc9"
      },
      "execution_count": null,
      "outputs": [
        {
          "output_type": "execute_result",
          "data": {
            "text/plain": [
              "               distributor   genre release_time  time screening_rat director  \\\n",
              "title                                                                          \n",
              "용서는 없다              시네마서비스     느와르   2010-01-07   125      청소년 관람불가      김형준   \n",
              "아빠가 여자를 좋아해         (주)쇼박스  멜로/로맨스   2010-01-14   113       12세 관람가      이광재   \n",
              "하모니              CJ 엔터테인먼트     드라마   2010-01-28   115       12세 관람가      강대규   \n",
              "의형제                 (주)쇼박스      액션   2010-02-04   116       15세 관람가       장훈   \n",
              "평행 이론            CJ 엔터테인먼트      공포   2010-02-18   110       15세 관람가      권호영   \n",
              "...                    ...     ...          ...   ...           ...      ...   \n",
              "마돈나                 리틀빅픽처스     드라마   2015-07-02   120      청소년 관람불가      신수원   \n",
              "나의 아들, 나의 어머니        인디플러그   다큐멘터리   2015-12-17    70        전체 관람가      안재민   \n",
              "타투                (주)다세포클럽      공포   2015-12-10    92      청소년 관람불가       이서   \n",
              "해에게서 소년에게              디씨드     드라마   2015-11-19    78       15세 관람가      안슬기   \n",
              "말하지 못한 비밀      (주)씨타마운틴픽쳐스     드라마   2015-10-22   102      청소년 관람불가      송동윤   \n",
              "\n",
              "               dir_prev_bfnum  dir_prev_num  num_staff  num_actor  \n",
              "title                                                              \n",
              "용서는 없다             300529.000             2        304          3  \n",
              "아빠가 여자를 좋아해        342700.250             4        275          3  \n",
              "하모니               4206610.667             3        419          7  \n",
              "의형제                691342.000             2        408          2  \n",
              "평행 이론               31738.000             1        380          1  \n",
              "...                       ...           ...        ...        ...  \n",
              "마돈나                771699.000             1        126          4  \n",
              "나의 아들, 나의 어머니        3568.000             3          1          2  \n",
              "타투                2099029.000             2        162          4  \n",
              "해에게서 소년에게            2590.000             1          4          4  \n",
              "말하지 못한 비밀           50699.000             1         68          7  \n",
              "\n",
              "[107 rows x 10 columns]"
            ],
            "text/html": [
              "\n",
              "  <div id=\"df-9aad68e5-93c9-40fe-b938-cfc38863459d\">\n",
              "    <div class=\"colab-df-container\">\n",
              "      <div>\n",
              "<style scoped>\n",
              "    .dataframe tbody tr th:only-of-type {\n",
              "        vertical-align: middle;\n",
              "    }\n",
              "\n",
              "    .dataframe tbody tr th {\n",
              "        vertical-align: top;\n",
              "    }\n",
              "\n",
              "    .dataframe thead th {\n",
              "        text-align: right;\n",
              "    }\n",
              "</style>\n",
              "<table border=\"1\" class=\"dataframe\">\n",
              "  <thead>\n",
              "    <tr style=\"text-align: right;\">\n",
              "      <th></th>\n",
              "      <th>distributor</th>\n",
              "      <th>genre</th>\n",
              "      <th>release_time</th>\n",
              "      <th>time</th>\n",
              "      <th>screening_rat</th>\n",
              "      <th>director</th>\n",
              "      <th>dir_prev_bfnum</th>\n",
              "      <th>dir_prev_num</th>\n",
              "      <th>num_staff</th>\n",
              "      <th>num_actor</th>\n",
              "    </tr>\n",
              "    <tr>\n",
              "      <th>title</th>\n",
              "      <th></th>\n",
              "      <th></th>\n",
              "      <th></th>\n",
              "      <th></th>\n",
              "      <th></th>\n",
              "      <th></th>\n",
              "      <th></th>\n",
              "      <th></th>\n",
              "      <th></th>\n",
              "      <th></th>\n",
              "    </tr>\n",
              "  </thead>\n",
              "  <tbody>\n",
              "    <tr>\n",
              "      <th>용서는 없다</th>\n",
              "      <td>시네마서비스</td>\n",
              "      <td>느와르</td>\n",
              "      <td>2010-01-07</td>\n",
              "      <td>125</td>\n",
              "      <td>청소년 관람불가</td>\n",
              "      <td>김형준</td>\n",
              "      <td>300529.000</td>\n",
              "      <td>2</td>\n",
              "      <td>304</td>\n",
              "      <td>3</td>\n",
              "    </tr>\n",
              "    <tr>\n",
              "      <th>아빠가 여자를 좋아해</th>\n",
              "      <td>(주)쇼박스</td>\n",
              "      <td>멜로/로맨스</td>\n",
              "      <td>2010-01-14</td>\n",
              "      <td>113</td>\n",
              "      <td>12세 관람가</td>\n",
              "      <td>이광재</td>\n",
              "      <td>342700.250</td>\n",
              "      <td>4</td>\n",
              "      <td>275</td>\n",
              "      <td>3</td>\n",
              "    </tr>\n",
              "    <tr>\n",
              "      <th>하모니</th>\n",
              "      <td>CJ 엔터테인먼트</td>\n",
              "      <td>드라마</td>\n",
              "      <td>2010-01-28</td>\n",
              "      <td>115</td>\n",
              "      <td>12세 관람가</td>\n",
              "      <td>강대규</td>\n",
              "      <td>4206610.667</td>\n",
              "      <td>3</td>\n",
              "      <td>419</td>\n",
              "      <td>7</td>\n",
              "    </tr>\n",
              "    <tr>\n",
              "      <th>의형제</th>\n",
              "      <td>(주)쇼박스</td>\n",
              "      <td>액션</td>\n",
              "      <td>2010-02-04</td>\n",
              "      <td>116</td>\n",
              "      <td>15세 관람가</td>\n",
              "      <td>장훈</td>\n",
              "      <td>691342.000</td>\n",
              "      <td>2</td>\n",
              "      <td>408</td>\n",
              "      <td>2</td>\n",
              "    </tr>\n",
              "    <tr>\n",
              "      <th>평행 이론</th>\n",
              "      <td>CJ 엔터테인먼트</td>\n",
              "      <td>공포</td>\n",
              "      <td>2010-02-18</td>\n",
              "      <td>110</td>\n",
              "      <td>15세 관람가</td>\n",
              "      <td>권호영</td>\n",
              "      <td>31738.000</td>\n",
              "      <td>1</td>\n",
              "      <td>380</td>\n",
              "      <td>1</td>\n",
              "    </tr>\n",
              "    <tr>\n",
              "      <th>...</th>\n",
              "      <td>...</td>\n",
              "      <td>...</td>\n",
              "      <td>...</td>\n",
              "      <td>...</td>\n",
              "      <td>...</td>\n",
              "      <td>...</td>\n",
              "      <td>...</td>\n",
              "      <td>...</td>\n",
              "      <td>...</td>\n",
              "      <td>...</td>\n",
              "    </tr>\n",
              "    <tr>\n",
              "      <th>마돈나</th>\n",
              "      <td>리틀빅픽처스</td>\n",
              "      <td>드라마</td>\n",
              "      <td>2015-07-02</td>\n",
              "      <td>120</td>\n",
              "      <td>청소년 관람불가</td>\n",
              "      <td>신수원</td>\n",
              "      <td>771699.000</td>\n",
              "      <td>1</td>\n",
              "      <td>126</td>\n",
              "      <td>4</td>\n",
              "    </tr>\n",
              "    <tr>\n",
              "      <th>나의 아들, 나의 어머니</th>\n",
              "      <td>인디플러그</td>\n",
              "      <td>다큐멘터리</td>\n",
              "      <td>2015-12-17</td>\n",
              "      <td>70</td>\n",
              "      <td>전체 관람가</td>\n",
              "      <td>안재민</td>\n",
              "      <td>3568.000</td>\n",
              "      <td>3</td>\n",
              "      <td>1</td>\n",
              "      <td>2</td>\n",
              "    </tr>\n",
              "    <tr>\n",
              "      <th>타투</th>\n",
              "      <td>(주)다세포클럽</td>\n",
              "      <td>공포</td>\n",
              "      <td>2015-12-10</td>\n",
              "      <td>92</td>\n",
              "      <td>청소년 관람불가</td>\n",
              "      <td>이서</td>\n",
              "      <td>2099029.000</td>\n",
              "      <td>2</td>\n",
              "      <td>162</td>\n",
              "      <td>4</td>\n",
              "    </tr>\n",
              "    <tr>\n",
              "      <th>해에게서 소년에게</th>\n",
              "      <td>디씨드</td>\n",
              "      <td>드라마</td>\n",
              "      <td>2015-11-19</td>\n",
              "      <td>78</td>\n",
              "      <td>15세 관람가</td>\n",
              "      <td>안슬기</td>\n",
              "      <td>2590.000</td>\n",
              "      <td>1</td>\n",
              "      <td>4</td>\n",
              "      <td>4</td>\n",
              "    </tr>\n",
              "    <tr>\n",
              "      <th>말하지 못한 비밀</th>\n",
              "      <td>(주)씨타마운틴픽쳐스</td>\n",
              "      <td>드라마</td>\n",
              "      <td>2015-10-22</td>\n",
              "      <td>102</td>\n",
              "      <td>청소년 관람불가</td>\n",
              "      <td>송동윤</td>\n",
              "      <td>50699.000</td>\n",
              "      <td>1</td>\n",
              "      <td>68</td>\n",
              "      <td>7</td>\n",
              "    </tr>\n",
              "  </tbody>\n",
              "</table>\n",
              "<p>107 rows × 10 columns</p>\n",
              "</div>\n",
              "      <button class=\"colab-df-convert\" onclick=\"convertToInteractive('df-9aad68e5-93c9-40fe-b938-cfc38863459d')\"\n",
              "              title=\"Convert this dataframe to an interactive table.\"\n",
              "              style=\"display:none;\">\n",
              "        \n",
              "  <svg xmlns=\"http://www.w3.org/2000/svg\" height=\"24px\"viewBox=\"0 0 24 24\"\n",
              "       width=\"24px\">\n",
              "    <path d=\"M0 0h24v24H0V0z\" fill=\"none\"/>\n",
              "    <path d=\"M18.56 5.44l.94 2.06.94-2.06 2.06-.94-2.06-.94-.94-2.06-.94 2.06-2.06.94zm-11 1L8.5 8.5l.94-2.06 2.06-.94-2.06-.94L8.5 2.5l-.94 2.06-2.06.94zm10 10l.94 2.06.94-2.06 2.06-.94-2.06-.94-.94-2.06-.94 2.06-2.06.94z\"/><path d=\"M17.41 7.96l-1.37-1.37c-.4-.4-.92-.59-1.43-.59-.52 0-1.04.2-1.43.59L10.3 9.45l-7.72 7.72c-.78.78-.78 2.05 0 2.83L4 21.41c.39.39.9.59 1.41.59.51 0 1.02-.2 1.41-.59l7.78-7.78 2.81-2.81c.8-.78.8-2.07 0-2.86zM5.41 20L4 18.59l7.72-7.72 1.47 1.35L5.41 20z\"/>\n",
              "  </svg>\n",
              "      </button>\n",
              "      \n",
              "  <style>\n",
              "    .colab-df-container {\n",
              "      display:flex;\n",
              "      flex-wrap:wrap;\n",
              "      gap: 12px;\n",
              "    }\n",
              "\n",
              "    .colab-df-convert {\n",
              "      background-color: #E8F0FE;\n",
              "      border: none;\n",
              "      border-radius: 50%;\n",
              "      cursor: pointer;\n",
              "      display: none;\n",
              "      fill: #1967D2;\n",
              "      height: 32px;\n",
              "      padding: 0 0 0 0;\n",
              "      width: 32px;\n",
              "    }\n",
              "\n",
              "    .colab-df-convert:hover {\n",
              "      background-color: #E2EBFA;\n",
              "      box-shadow: 0px 1px 2px rgba(60, 64, 67, 0.3), 0px 1px 3px 1px rgba(60, 64, 67, 0.15);\n",
              "      fill: #174EA6;\n",
              "    }\n",
              "\n",
              "    [theme=dark] .colab-df-convert {\n",
              "      background-color: #3B4455;\n",
              "      fill: #D2E3FC;\n",
              "    }\n",
              "\n",
              "    [theme=dark] .colab-df-convert:hover {\n",
              "      background-color: #434B5C;\n",
              "      box-shadow: 0px 1px 3px 1px rgba(0, 0, 0, 0.15);\n",
              "      filter: drop-shadow(0px 1px 2px rgba(0, 0, 0, 0.3));\n",
              "      fill: #FFFFFF;\n",
              "    }\n",
              "  </style>\n",
              "\n",
              "      <script>\n",
              "        const buttonEl =\n",
              "          document.querySelector('#df-9aad68e5-93c9-40fe-b938-cfc38863459d button.colab-df-convert');\n",
              "        buttonEl.style.display =\n",
              "          google.colab.kernel.accessAllowed ? 'block' : 'none';\n",
              "\n",
              "        async function convertToInteractive(key) {\n",
              "          const element = document.querySelector('#df-9aad68e5-93c9-40fe-b938-cfc38863459d');\n",
              "          const dataTable =\n",
              "            await google.colab.kernel.invokeFunction('convertToInteractive',\n",
              "                                                     [key], {});\n",
              "          if (!dataTable) return;\n",
              "\n",
              "          const docLinkHtml = 'Like what you see? Visit the ' +\n",
              "            '<a target=\"_blank\" href=https://colab.research.google.com/notebooks/data_table.ipynb>data table notebook</a>'\n",
              "            + ' to learn more about interactive tables.';\n",
              "          element.innerHTML = '';\n",
              "          dataTable['output_type'] = 'display_data';\n",
              "          await google.colab.output.renderOutput(dataTable, element);\n",
              "          const docLink = document.createElement('div');\n",
              "          docLink.innerHTML = docLinkHtml;\n",
              "          element.appendChild(docLink);\n",
              "        }\n",
              "      </script>\n",
              "    </div>\n",
              "  </div>\n",
              "  "
            ]
          },
          "metadata": {},
          "execution_count": 7
        }
      ]
    },
    {
      "cell_type": "code",
      "source": [
        "df.dropna(inplace=True)\n",
        "print(df.isnull().sum().sum()) #dropna메서드를 통해 df의 결측치를 모두 제거하고, 결측이 잘 제거되었는지 확인한다."
      ],
      "metadata": {
        "id": "-aXiD3gaKY1r",
        "colab": {
          "base_uri": "https://localhost:8080/"
        },
        "outputId": "bd3b847e-ff9e-44f1-c699-300ba8388345"
      },
      "execution_count": null,
      "outputs": [
        {
          "output_type": "stream",
          "name": "stdout",
          "text": [
            "0\n"
          ]
        }
      ]
    },
    {
      "cell_type": "markdown",
      "source": [
        "#2-3. 중복값 처리  :  drop_duplicates 메서드 사용"
      ],
      "metadata": {
        "id": "qWPQfj6uxAMI"
      }
    },
    {
      "cell_type": "code",
      "source": [
        "df=pd.read_csv('/content/drive/MyDrive/최종 프로젝트 데이터/test.csv',encoding='cp949')\n",
        "print(df.iloc[:5,:])"
      ],
      "metadata": {
        "id": "620B5TNKKlnK",
        "colab": {
          "base_uri": "https://localhost:8080/"
        },
        "outputId": "19c53404-a8ed-43e4-dd5b-f8f650289e64"
      },
      "execution_count": null,
      "outputs": [
        {
          "output_type": "stream",
          "name": "stdout",
          "text": [
            "         title distributor   genre release_time  time screening_rat director  \\\n",
            "0       용서는 없다      시네마서비스     느와르   2010-01-07   125      청소년 관람불가      김형준   \n",
            "1  아빠가 여자를 좋아해      (주)쇼박스  멜로/로맨스   2010-01-14   113       12세 관람가      이광재   \n",
            "2          하모니   CJ 엔터테인먼트     드라마   2010-01-28   115       12세 관람가      강대규   \n",
            "3          의형제      (주)쇼박스      액션   2010-02-04   116       15세 관람가       장훈   \n",
            "4        평행 이론   CJ 엔터테인먼트      공포   2010-02-18   110       15세 관람가      권호영   \n",
            "\n",
            "   dir_prev_bfnum  dir_prev_num  num_staff  num_actor  \n",
            "0      300529.000             2        304          3  \n",
            "1      342700.250             4        275          3  \n",
            "2     4206610.667             3        419          7  \n",
            "3      691342.000             2        408          2  \n",
            "4       31738.000             1        380          1  \n"
          ]
        }
      ]
    },
    {
      "cell_type": "code",
      "source": [
        "df_long=pd.melt(df,id_vars=['title','distributor'],var_name='genre',value_name='time')\n",
        "print(df_long.head())"
      ],
      "metadata": {
        "id": "7i5GYB_aKMhc",
        "colab": {
          "base_uri": "https://localhost:8080/"
        },
        "outputId": "97a4f440-1760-4245-c855-9c034e71ae08"
      },
      "execution_count": null,
      "outputs": [
        {
          "output_type": "stream",
          "name": "stdout",
          "text": [
            "         title distributor  genre    time\n",
            "0       용서는 없다      시네마서비스  genre     느와르\n",
            "1  아빠가 여자를 좋아해      (주)쇼박스  genre  멜로/로맨스\n",
            "2          하모니   CJ 엔터테인먼트  genre     드라마\n",
            "3          의형제      (주)쇼박스  genre      액션\n",
            "4        평행 이론   CJ 엔터테인먼트  genre      공포\n"
          ]
        },
        {
          "output_type": "stream",
          "name": "stderr",
          "text": [
            "/usr/local/lib/python3.8/dist-packages/IPython/core/interactiveshell.py:3326: FutureWarning: This dataframe has a column name that matches the 'value_name' column name of the resulting Dataframe. In the future this will raise an error, please set the 'value_name' parameter of DataFrame.melt to a unique name.\n",
            "  exec(code_obj, self.user_global_ns, self.user_ns)\n"
          ]
        }
      ]
    },
    {
      "cell_type": "code",
      "source": [
        "df_movies=df_long.drop_duplicates( )\n",
        "print(df_movies.shape)"
      ],
      "metadata": {
        "id": "AM1VtEeswsiu",
        "colab": {
          "base_uri": "https://localhost:8080/"
        },
        "outputId": "807a0cc1-5313-4186-8e46-016ee0235b5d"
      },
      "execution_count": null,
      "outputs": [
        {
          "output_type": "stream",
          "name": "stdout",
          "text": [
            "(963, 4)\n"
          ]
        }
      ]
    },
    {
      "cell_type": "markdown",
      "source": [
        "# 2-4. 이상치 처리"
      ],
      "metadata": {
        "id": "yfPmd10ZBvl3"
      }
    },
    {
      "cell_type": "code",
      "source": [
        "#상영시간 이상값 boxplot으로 파악하기기\n",
        "sns.set_theme(style=\"whitegrid\")\n",
        "plt.figure(figsize=(12,4))\n",
        "sns.boxplot(x=df.time)"
      ],
      "metadata": {
        "id": "qpuwS4C1xv3v",
        "colab": {
          "base_uri": "https://localhost:8080/",
          "height": 303
        },
        "outputId": "aedeb023-bf0f-4628-b66a-b042c20686a3"
      },
      "execution_count": null,
      "outputs": [
        {
          "output_type": "execute_result",
          "data": {
            "text/plain": [
              "<matplotlib.axes._subplots.AxesSubplot at 0x7fef37629640>"
            ]
          },
          "metadata": {},
          "execution_count": 12
        },
        {
          "output_type": "display_data",
          "data": {
            "text/plain": [
              "<Figure size 864x288 with 1 Axes>"
            ],
            "image/png": "[encoded data removed]"
          },
          "metadata": {}
        }
      ]
    },
    {
      "cell_type": "code",
      "source": [
        "#상영시간 IQR기법으로 이상값 확인하기\n",
        "def outlier_iqr(data, column):\n",
        "  #lower(하한), upper(상한) 글로벌 변수 선언하기\n",
        "  global lower, upper\n",
        "  # 4분위수 기준 지정하기\n",
        "  q1, q3 = np.quantile(data[column],0.25),np.quantile(data[column],0.75)\n",
        "  #IQR 계산하기\n",
        "  iqr=q3-q1\n",
        "  #outliner cutoff(기준점) 계산하기\n",
        "  cut_off=iqr*1.5\n",
        "  #lower와 upper 구분하기\n",
        "  lower, upper = q1-cut_off, q3 + cut_off\n",
        "  print('IQR은',iqr,'이다.')\n",
        "  print('lower 기준값은',lower,'이다.')\n",
        "  print('upper 기준값은',upper,'이다.')\n",
        "  #1사분위와 4사분위에 속해 있는 데이터 각각 저장하기\n",
        "  data1=data[data[column]>upper]\n",
        "  data2=data[data[column]<lower]\n",
        "  #이상값 총 개수 구하기\n",
        "  return print('총 이상값 개수는', data1.shape[0]+data2.shape[0],'이다.')\n",
        "\n",
        "outlier_iqr(df,'time')\n",
        "len(df)"
      ],
      "metadata": {
        "id": "CHz_0711Cq7q",
        "colab": {
          "base_uri": "https://localhost:8080/"
        },
        "outputId": "1dd34f85-05da-4fa5-8d53-a725e335ac8f"
      },
      "execution_count": null,
      "outputs": [
        {
          "output_type": "stream",
          "name": "stdout",
          "text": [
            "IQR은 24.0 이다.\n",
            "lower 기준값은 59.0 이다.\n",
            "upper 기준값은 155.0 이다.\n",
            "총 이상값 개수는 1 이다.\n"
          ]
        },
        {
          "output_type": "execute_result",
          "data": {
            "text/plain": [
              "107"
            ]
          },
          "metadata": {},
          "execution_count": 13
        }
      ]
    },
    {
      "cell_type": "code",
      "source": [
        "#이상값(outliner)이 없는 df 생성하기 \n",
        "df_no_outliner=df[(df['time']<upper)*(df['time']>lower)]\n",
        "df_no_outliner.head()"
      ],
      "metadata": {
        "id": "csivzZT3FMiL",
        "colab": {
          "base_uri": "https://localhost:8080/",
          "height": 206
        },
        "outputId": "8f2d2b6d-681a-4f23-a0f2-db87d88658d6"
      },
      "execution_count": null,
      "outputs": [
        {
          "output_type": "execute_result",
          "data": {
            "text/plain": [
              "         title distributor   genre release_time  time screening_rat director  \\\n",
              "0       용서는 없다      시네마서비스     느와르   2010-01-07   125      청소년 관람불가      김형준   \n",
              "1  아빠가 여자를 좋아해      (주)쇼박스  멜로/로맨스   2010-01-14   113       12세 관람가      이광재   \n",
              "2          하모니   CJ 엔터테인먼트     드라마   2010-01-28   115       12세 관람가      강대규   \n",
              "3          의형제      (주)쇼박스      액션   2010-02-04   116       15세 관람가       장훈   \n",
              "4        평행 이론   CJ 엔터테인먼트      공포   2010-02-18   110       15세 관람가      권호영   \n",
              "\n",
              "   dir_prev_bfnum  dir_prev_num  num_staff  num_actor  \n",
              "0      300529.000             2        304          3  \n",
              "1      342700.250             4        275          3  \n",
              "2     4206610.667             3        419          7  \n",
              "3      691342.000             2        408          2  \n",
              "4       31738.000             1        380          1  "
            ],
            "text/html": [
              "\n",
              "  <div id=\"df-16fdc924-35db-4d41-868a-54820790c1d7\">\n",
              "    <div class=\"colab-df-container\">\n",
              "      <div>\n",
              "<style scoped>\n",
              "    .dataframe tbody tr th:only-of-type {\n",
              "        vertical-align: middle;\n",
              "    }\n",
              "\n",
              "    .dataframe tbody tr th {\n",
              "        vertical-align: top;\n",
              "    }\n",
              "\n",
              "    .dataframe thead th {\n",
              "        text-align: right;\n",
              "    }\n",
              "</style>\n",
              "<table border=\"1\" class=\"dataframe\">\n",
              "  <thead>\n",
              "    <tr style=\"text-align: right;\">\n",
              "      <th></th>\n",
              "      <th>title</th>\n",
              "      <th>distributor</th>\n",
              "      <th>genre</th>\n",
              "      <th>release_time</th>\n",
              "      <th>time</th>\n",
              "      <th>screening_rat</th>\n",
              "      <th>director</th>\n",
              "      <th>dir_prev_bfnum</th>\n",
              "      <th>dir_prev_num</th>\n",
              "      <th>num_staff</th>\n",
              "      <th>num_actor</th>\n",
              "    </tr>\n",
              "  </thead>\n",
              "  <tbody>\n",
              "    <tr>\n",
              "      <th>0</th>\n",
              "      <td>용서는 없다</td>\n",
              "      <td>시네마서비스</td>\n",
              "      <td>느와르</td>\n",
              "      <td>2010-01-07</td>\n",
              "      <td>125</td>\n",
              "      <td>청소년 관람불가</td>\n",
              "      <td>김형준</td>\n",
              "      <td>300529.000</td>\n",
              "      <td>2</td>\n",
              "      <td>304</td>\n",
              "      <td>3</td>\n",
              "    </tr>\n",
              "    <tr>\n",
              "      <th>1</th>\n",
              "      <td>아빠가 여자를 좋아해</td>\n",
              "      <td>(주)쇼박스</td>\n",
              "      <td>멜로/로맨스</td>\n",
              "      <td>2010-01-14</td>\n",
              "      <td>113</td>\n",
              "      <td>12세 관람가</td>\n",
              "      <td>이광재</td>\n",
              "      <td>342700.250</td>\n",
              "      <td>4</td>\n",
              "      <td>275</td>\n",
              "      <td>3</td>\n",
              "    </tr>\n",
              "    <tr>\n",
              "      <th>2</th>\n",
              "      <td>하모니</td>\n",
              "      <td>CJ 엔터테인먼트</td>\n",
              "      <td>드라마</td>\n",
              "      <td>2010-01-28</td>\n",
              "      <td>115</td>\n",
              "      <td>12세 관람가</td>\n",
              "      <td>강대규</td>\n",
              "      <td>4206610.667</td>\n",
              "      <td>3</td>\n",
              "      <td>419</td>\n",
              "      <td>7</td>\n",
              "    </tr>\n",
              "    <tr>\n",
              "      <th>3</th>\n",
              "      <td>의형제</td>\n",
              "      <td>(주)쇼박스</td>\n",
              "      <td>액션</td>\n",
              "      <td>2010-02-04</td>\n",
              "      <td>116</td>\n",
              "      <td>15세 관람가</td>\n",
              "      <td>장훈</td>\n",
              "      <td>691342.000</td>\n",
              "      <td>2</td>\n",
              "      <td>408</td>\n",
              "      <td>2</td>\n",
              "    </tr>\n",
              "    <tr>\n",
              "      <th>4</th>\n",
              "      <td>평행 이론</td>\n",
              "      <td>CJ 엔터테인먼트</td>\n",
              "      <td>공포</td>\n",
              "      <td>2010-02-18</td>\n",
              "      <td>110</td>\n",
              "      <td>15세 관람가</td>\n",
              "      <td>권호영</td>\n",
              "      <td>31738.000</td>\n",
              "      <td>1</td>\n",
              "      <td>380</td>\n",
              "      <td>1</td>\n",
              "    </tr>\n",
              "  </tbody>\n",
              "</table>\n",
              "</div>\n",
              "      <button class=\"colab-df-convert\" onclick=\"convertToInteractive('df-16fdc924-35db-4d41-868a-54820790c1d7')\"\n",
              "              title=\"Convert this dataframe to an interactive table.\"\n",
              "              style=\"display:none;\">\n",
              "        \n",
              "  <svg xmlns=\"http://www.w3.org/2000/svg\" height=\"24px\"viewBox=\"0 0 24 24\"\n",
              "       width=\"24px\">\n",
              "    <path d=\"M0 0h24v24H0V0z\" fill=\"none\"/>\n",
              "    <path d=\"M18.56 5.44l.94 2.06.94-2.06 2.06-.94-2.06-.94-.94-2.06-.94 2.06-2.06.94zm-11 1L8.5 8.5l.94-2.06 2.06-.94-2.06-.94L8.5 2.5l-.94 2.06-2.06.94zm10 10l.94 2.06.94-2.06 2.06-.94-2.06-.94-.94-2.06-.94 2.06-2.06.94z\"/><path d=\"M17.41 7.96l-1.37-1.37c-.4-.4-.92-.59-1.43-.59-.52 0-1.04.2-1.43.59L10.3 9.45l-7.72 7.72c-.78.78-.78 2.05 0 2.83L4 21.41c.39.39.9.59 1.41.59.51 0 1.02-.2 1.41-.59l7.78-7.78 2.81-2.81c.8-.78.8-2.07 0-2.86zM5.41 20L4 18.59l7.72-7.72 1.47 1.35L5.41 20z\"/>\n",
              "  </svg>\n",
              "      </button>\n",
              "      \n",
              "  <style>\n",
              "    .colab-df-container {\n",
              "      display:flex;\n",
              "      flex-wrap:wrap;\n",
              "      gap: 12px;\n",
              "    }\n",
              "\n",
              "    .colab-df-convert {\n",
              "      background-color: #E8F0FE;\n",
              "      border: none;\n",
              "      border-radius: 50%;\n",
              "      cursor: pointer;\n",
              "      display: none;\n",
              "      fill: #1967D2;\n",
              "      height: 32px;\n",
              "      padding: 0 0 0 0;\n",
              "      width: 32px;\n",
              "    }\n",
              "\n",
              "    .colab-df-convert:hover {\n",
              "      background-color: #E2EBFA;\n",
              "      box-shadow: 0px 1px 2px rgba(60, 64, 67, 0.3), 0px 1px 3px 1px rgba(60, 64, 67, 0.15);\n",
              "      fill: #174EA6;\n",
              "    }\n",
              "\n",
              "    [theme=dark] .colab-df-convert {\n",
              "      background-color: #3B4455;\n",
              "      fill: #D2E3FC;\n",
              "    }\n",
              "\n",
              "    [theme=dark] .colab-df-convert:hover {\n",
              "      background-color: #434B5C;\n",
              "      box-shadow: 0px 1px 3px 1px rgba(0, 0, 0, 0.15);\n",
              "      filter: drop-shadow(0px 1px 2px rgba(0, 0, 0, 0.3));\n",
              "      fill: #FFFFFF;\n",
              "    }\n",
              "  </style>\n",
              "\n",
              "      <script>\n",
              "        const buttonEl =\n",
              "          document.querySelector('#df-16fdc924-35db-4d41-868a-54820790c1d7 button.colab-df-convert');\n",
              "        buttonEl.style.display =\n",
              "          google.colab.kernel.accessAllowed ? 'block' : 'none';\n",
              "\n",
              "        async function convertToInteractive(key) {\n",
              "          const element = document.querySelector('#df-16fdc924-35db-4d41-868a-54820790c1d7');\n",
              "          const dataTable =\n",
              "            await google.colab.kernel.invokeFunction('convertToInteractive',\n",
              "                                                     [key], {});\n",
              "          if (!dataTable) return;\n",
              "\n",
              "          const docLinkHtml = 'Like what you see? Visit the ' +\n",
              "            '<a target=\"_blank\" href=https://colab.research.google.com/notebooks/data_table.ipynb>data table notebook</a>'\n",
              "            + ' to learn more about interactive tables.';\n",
              "          element.innerHTML = '';\n",
              "          dataTable['output_type'] = 'display_data';\n",
              "          await google.colab.output.renderOutput(dataTable, element);\n",
              "          const docLink = document.createElement('div');\n",
              "          docLink.innerHTML = docLinkHtml;\n",
              "          element.appendChild(docLink);\n",
              "        }\n",
              "      </script>\n",
              "    </div>\n",
              "  </div>\n",
              "  "
            ]
          },
          "metadata": {},
          "execution_count": 14
        }
      ]
    },
    {
      "cell_type": "code",
      "source": [
        "#필터링 후의 개수\n",
        "len(df_no_outliner)"
      ],
      "metadata": {
        "id": "TNOUYPNoGWKb",
        "colab": {
          "base_uri": "https://localhost:8080/"
        },
        "outputId": "4b8a0284-225d-4d0f-ef8f-bf1ff7e9d1c3"
      },
      "execution_count": null,
      "outputs": [
        {
          "output_type": "execute_result",
          "data": {
            "text/plain": [
              "106"
            ]
          },
          "metadata": {},
          "execution_count": 15
        }
      ]
    },
    {
      "cell_type": "markdown",
      "source": [
        "# 3-1. 모델링 "
      ],
      "metadata": {
        "id": "CGTw0tf0KFfq"
      }
    },
    {
      "cell_type": "code",
      "source": [
        "import os\n",
        "import pandas as pd\n",
        "from sklearn.model_selection import train_test_split\n",
        "from sklearn.metrics import *\n",
        "from sklearn.metrics import mean_squared_error\n",
        "\n",
        "df1=pd.read_csv('/content/drive/MyDrive/최종 프로젝트 데이터/test.csv',encoding='cp949',low_memory=False)\n",
        "df1.head()"
      ],
      "metadata": {
        "id": "6X4zDW4ZV0Cs",
        "colab": {
          "base_uri": "https://localhost:8080/",
          "height": 206
        },
        "outputId": "0c1a22ea-ae95-48d0-b5d1-7e12a0252e96"
      },
      "execution_count": null,
      "outputs": [
        {
          "output_type": "execute_result",
          "data": {
            "text/plain": [
              "         title distributor   genre release_time  time screening_rat director  \\\n",
              "0       용서는 없다      시네마서비스     느와르   2010-01-07   125      청소년 관람불가      김형준   \n",
              "1  아빠가 여자를 좋아해      (주)쇼박스  멜로/로맨스   2010-01-14   113       12세 관람가      이광재   \n",
              "2          하모니   CJ 엔터테인먼트     드라마   2010-01-28   115       12세 관람가      강대규   \n",
              "3          의형제      (주)쇼박스      액션   2010-02-04   116       15세 관람가       장훈   \n",
              "4        평행 이론   CJ 엔터테인먼트      공포   2010-02-18   110       15세 관람가      권호영   \n",
              "\n",
              "   dir_prev_bfnum  dir_prev_num  num_staff  num_actor  \n",
              "0      300529.000             2        304          3  \n",
              "1      342700.250             4        275          3  \n",
              "2     4206610.667             3        419          7  \n",
              "3      691342.000             2        408          2  \n",
              "4       31738.000             1        380          1  "
            ],
            "text/html": [
              "\n",
              "  <div id=\"df-72d39f80-402e-48ff-a871-dad43a038dda\">\n",
              "    <div class=\"colab-df-container\">\n",
              "      <div>\n",
              "<style scoped>\n",
              "    .dataframe tbody tr th:only-of-type {\n",
              "        vertical-align: middle;\n",
              "    }\n",
              "\n",
              "    .dataframe tbody tr th {\n",
              "        vertical-align: top;\n",
              "    }\n",
              "\n",
              "    .dataframe thead th {\n",
              "        text-align: right;\n",
              "    }\n",
              "</style>\n",
              "<table border=\"1\" class=\"dataframe\">\n",
              "  <thead>\n",
              "    <tr style=\"text-align: right;\">\n",
              "      <th></th>\n",
              "      <th>title</th>\n",
              "      <th>distributor</th>\n",
              "      <th>genre</th>\n",
              "      <th>release_time</th>\n",
              "      <th>time</th>\n",
              "      <th>screening_rat</th>\n",
              "      <th>director</th>\n",
              "      <th>dir_prev_bfnum</th>\n",
              "      <th>dir_prev_num</th>\n",
              "      <th>num_staff</th>\n",
              "      <th>num_actor</th>\n",
              "    </tr>\n",
              "  </thead>\n",
              "  <tbody>\n",
              "    <tr>\n",
              "      <th>0</th>\n",
              "      <td>용서는 없다</td>\n",
              "      <td>시네마서비스</td>\n",
              "      <td>느와르</td>\n",
              "      <td>2010-01-07</td>\n",
              "      <td>125</td>\n",
              "      <td>청소년 관람불가</td>\n",
              "      <td>김형준</td>\n",
              "      <td>300529.000</td>\n",
              "      <td>2</td>\n",
              "      <td>304</td>\n",
              "      <td>3</td>\n",
              "    </tr>\n",
              "    <tr>\n",
              "      <th>1</th>\n",
              "      <td>아빠가 여자를 좋아해</td>\n",
              "      <td>(주)쇼박스</td>\n",
              "      <td>멜로/로맨스</td>\n",
              "      <td>2010-01-14</td>\n",
              "      <td>113</td>\n",
              "      <td>12세 관람가</td>\n",
              "      <td>이광재</td>\n",
              "      <td>342700.250</td>\n",
              "      <td>4</td>\n",
              "      <td>275</td>\n",
              "      <td>3</td>\n",
              "    </tr>\n",
              "    <tr>\n",
              "      <th>2</th>\n",
              "      <td>하모니</td>\n",
              "      <td>CJ 엔터테인먼트</td>\n",
              "      <td>드라마</td>\n",
              "      <td>2010-01-28</td>\n",
              "      <td>115</td>\n",
              "      <td>12세 관람가</td>\n",
              "      <td>강대규</td>\n",
              "      <td>4206610.667</td>\n",
              "      <td>3</td>\n",
              "      <td>419</td>\n",
              "      <td>7</td>\n",
              "    </tr>\n",
              "    <tr>\n",
              "      <th>3</th>\n",
              "      <td>의형제</td>\n",
              "      <td>(주)쇼박스</td>\n",
              "      <td>액션</td>\n",
              "      <td>2010-02-04</td>\n",
              "      <td>116</td>\n",
              "      <td>15세 관람가</td>\n",
              "      <td>장훈</td>\n",
              "      <td>691342.000</td>\n",
              "      <td>2</td>\n",
              "      <td>408</td>\n",
              "      <td>2</td>\n",
              "    </tr>\n",
              "    <tr>\n",
              "      <th>4</th>\n",
              "      <td>평행 이론</td>\n",
              "      <td>CJ 엔터테인먼트</td>\n",
              "      <td>공포</td>\n",
              "      <td>2010-02-18</td>\n",
              "      <td>110</td>\n",
              "      <td>15세 관람가</td>\n",
              "      <td>권호영</td>\n",
              "      <td>31738.000</td>\n",
              "      <td>1</td>\n",
              "      <td>380</td>\n",
              "      <td>1</td>\n",
              "    </tr>\n",
              "  </tbody>\n",
              "</table>\n",
              "</div>\n",
              "      <button class=\"colab-df-convert\" onclick=\"convertToInteractive('df-72d39f80-402e-48ff-a871-dad43a038dda')\"\n",
              "              title=\"Convert this dataframe to an interactive table.\"\n",
              "              style=\"display:none;\">\n",
              "        \n",
              "  <svg xmlns=\"http://www.w3.org/2000/svg\" height=\"24px\"viewBox=\"0 0 24 24\"\n",
              "       width=\"24px\">\n",
              "    <path d=\"M0 0h24v24H0V0z\" fill=\"none\"/>\n",
              "    <path d=\"M18.56 5.44l.94 2.06.94-2.06 2.06-.94-2.06-.94-.94-2.06-.94 2.06-2.06.94zm-11 1L8.5 8.5l.94-2.06 2.06-.94-2.06-.94L8.5 2.5l-.94 2.06-2.06.94zm10 10l.94 2.06.94-2.06 2.06-.94-2.06-.94-.94-2.06-.94 2.06-2.06.94z\"/><path d=\"M17.41 7.96l-1.37-1.37c-.4-.4-.92-.59-1.43-.59-.52 0-1.04.2-1.43.59L10.3 9.45l-7.72 7.72c-.78.78-.78 2.05 0 2.83L4 21.41c.39.39.9.59 1.41.59.51 0 1.02-.2 1.41-.59l7.78-7.78 2.81-2.81c.8-.78.8-2.07 0-2.86zM5.41 20L4 18.59l7.72-7.72 1.47 1.35L5.41 20z\"/>\n",
              "  </svg>\n",
              "      </button>\n",
              "      \n",
              "  <style>\n",
              "    .colab-df-container {\n",
              "      display:flex;\n",
              "      flex-wrap:wrap;\n",
              "      gap: 12px;\n",
              "    }\n",
              "\n",
              "    .colab-df-convert {\n",
              "      background-color: #E8F0FE;\n",
              "      border: none;\n",
              "      border-radius: 50%;\n",
              "      cursor: pointer;\n",
              "      display: none;\n",
              "      fill: #1967D2;\n",
              "      height: 32px;\n",
              "      padding: 0 0 0 0;\n",
              "      width: 32px;\n",
              "    }\n",
              "\n",
              "    .colab-df-convert:hover {\n",
              "      background-color: #E2EBFA;\n",
              "      box-shadow: 0px 1px 2px rgba(60, 64, 67, 0.3), 0px 1px 3px 1px rgba(60, 64, 67, 0.15);\n",
              "      fill: #174EA6;\n",
              "    }\n",
              "\n",
              "    [theme=dark] .colab-df-convert {\n",
              "      background-color: #3B4455;\n",
              "      fill: #D2E3FC;\n",
              "    }\n",
              "\n",
              "    [theme=dark] .colab-df-convert:hover {\n",
              "      background-color: #434B5C;\n",
              "      box-shadow: 0px 1px 3px 1px rgba(0, 0, 0, 0.15);\n",
              "      filter: drop-shadow(0px 1px 2px rgba(0, 0, 0, 0.3));\n",
              "      fill: #FFFFFF;\n",
              "    }\n",
              "  </style>\n",
              "\n",
              "      <script>\n",
              "        const buttonEl =\n",
              "          document.querySelector('#df-72d39f80-402e-48ff-a871-dad43a038dda button.colab-df-convert');\n",
              "        buttonEl.style.display =\n",
              "          google.colab.kernel.accessAllowed ? 'block' : 'none';\n",
              "\n",
              "        async function convertToInteractive(key) {\n",
              "          const element = document.querySelector('#df-72d39f80-402e-48ff-a871-dad43a038dda');\n",
              "          const dataTable =\n",
              "            await google.colab.kernel.invokeFunction('convertToInteractive',\n",
              "                                                     [key], {});\n",
              "          if (!dataTable) return;\n",
              "\n",
              "          const docLinkHtml = 'Like what you see? Visit the ' +\n",
              "            '<a target=\"_blank\" href=https://colab.research.google.com/notebooks/data_table.ipynb>data table notebook</a>'\n",
              "            + ' to learn more about interactive tables.';\n",
              "          element.innerHTML = '';\n",
              "          dataTable['output_type'] = 'display_data';\n",
              "          await google.colab.output.renderOutput(dataTable, element);\n",
              "          const docLink = document.createElement('div');\n",
              "          docLink.innerHTML = docLinkHtml;\n",
              "          element.appendChild(docLink);\n",
              "        }\n",
              "      </script>\n",
              "    </div>\n",
              "  </div>\n",
              "  "
            ]
          },
          "metadata": {},
          "execution_count": 68
        }
      ]
    },
    {
      "cell_type": "code",
      "source": [
        "from sklearn.model_selection import train_test_split\n",
        "#75%를 훈련 세트로, 25%를 테스트 세트로 나눈다. \n",
        "train_set, test_set=train_test_split(df1, random_state=42)"
      ],
      "metadata": {
        "id": "5YymNFTQKI2Q"
      },
      "execution_count": null,
      "outputs": []
    },
    {
      "cell_type": "code",
      "source": [
        "print(len(train_set),len(test_set))"
      ],
      "metadata": {
        "id": "qARIKoL4PITg",
        "colab": {
          "base_uri": "https://localhost:8080/"
        },
        "outputId": "929577d8-9faa-472d-81d9-140252bf4030"
      },
      "execution_count": null,
      "outputs": [
        {
          "output_type": "stream",
          "name": "stdout",
          "text": [
            "80 27\n"
          ]
        }
      ]
    },
    {
      "cell_type": "markdown",
      "source": [
        "#3-2. train set 모델 학습 "
      ],
      "metadata": {
        "id": "i5vQZuRJPhGw"
      }
    },
    {
      "cell_type": "markdown",
      "source": [
        "##1) 선형 회귀 linear regression"
      ],
      "metadata": {
        "id": "di0XEQwyY3wl"
      }
    },
    {
      "cell_type": "code",
      "source": [
        "pip install scikit-learn"
      ],
      "metadata": {
        "id": "pRJRCUwdwBEo",
        "colab": {
          "base_uri": "https://localhost:8080/"
        },
        "outputId": "4188de26-c470-4d75-9812-e594b42a4ffa"
      },
      "execution_count": null,
      "outputs": [
        {
          "output_type": "stream",
          "name": "stdout",
          "text": [
            "Looking in indexes: https://pypi.org/simple, https://us-python.pkg.dev/colab-wheels/public/simple/\n",
            "Requirement already satisfied: scikit-learn in /usr/local/lib/python3.8/dist-packages (1.0.2)\n",
            "Requirement already satisfied: scipy>=1.1.0 in /usr/local/lib/python3.8/dist-packages (from scikit-learn) (1.7.3)\n",
            "Requirement already satisfied: threadpoolctl>=2.0.0 in /usr/local/lib/python3.8/dist-packages (from scikit-learn) (3.1.0)\n",
            "Requirement already satisfied: numpy>=1.14.6 in /usr/local/lib/python3.8/dist-packages (from scikit-learn) (1.21.6)\n",
            "Requirement already satisfied: joblib>=0.11 in /usr/local/lib/python3.8/dist-packages (from scikit-learn) (1.2.0)\n"
          ]
        }
      ]
    },
    {
      "cell_type": "code",
      "source": [
        "X_train=train_set[['time']]\n",
        "y_train=train_set[['time']]\n",
        "X_test=test_set[['time']]\n",
        "y_test=test_set[['time']]\n",
        "\n",
        "print(X_train.shape,y_train.shape)"
      ],
      "metadata": {
        "id": "MFnMg3FJh7KT",
        "colab": {
          "base_uri": "https://localhost:8080/"
        },
        "outputId": "bfcd28c3-c73d-4837-ecc3-ccf05038abb5"
      },
      "execution_count": null,
      "outputs": [
        {
          "output_type": "stream",
          "name": "stdout",
          "text": [
            "(80, 1) (80, 1)\n"
          ]
        }
      ]
    },
    {
      "cell_type": "code",
      "source": [
        "from sklearn.linear_model import LinearRegression\n",
        "lr=LinearRegression()\n",
        "lr.fit(X_train,y_train)\n",
        "#결정계수 \n",
        "lr.score(X_test,y_test)\n",
        "rmse=mean_squared_error(X_test,y_test)\n",
        "print(rmse)"
      ],
      "metadata": {
        "id": "IIuAy4bKvjZc",
        "colab": {
          "base_uri": "https://localhost:8080/"
        },
        "outputId": "b8142ce1-2bd1-47f9-9026-4dd8b83b3ead"
      },
      "execution_count": null,
      "outputs": [
        {
          "output_type": "stream",
          "name": "stdout",
          "text": [
            "0.0\n"
          ]
        }
      ]
    },
    {
      "cell_type": "markdown",
      "source": [
        "##2) decision tree"
      ],
      "metadata": {
        "id": "Uc3BKqxrhlzf"
      }
    },
    {
      "cell_type": "code",
      "source": [
        "from sklearn.model_selection import train_test_split\n",
        "\n",
        "df1=pd.read_csv('/content/drive/MyDrive/최종 프로젝트 데이터/test.csv',encoding='cp949',low_memory=False,index_col=0)\n",
        "df2=pd.read_csv('/content/drive/MyDrive/최종 프로젝트 데이터/train.csv',encoding='utf-8',low_memory=False,index_col=0)\n",
        "\n",
        "X1=df1.drop('time',axis=1)\n",
        "y1=df1['dir_prev_num']\n",
        "X1_train, X1_test, y1_train, y1_test=train_test_split(X1,y1,random_state=2022)\n",
        "\n",
        "X2=df2.drop('time',axis=1)\n",
        "y2=df2['dir_prev_num']\n",
        "X2_train, X2_test, y2_train, y2_test=train_test_split(X2,y2,random_state=2022)"
      ],
      "metadata": {
        "id": "wjHdHXVrhqfD"
      },
      "execution_count": null,
      "outputs": []
    },
    {
      "cell_type": "code",
      "source": [
        "from sklearn.tree import DecisionTreeClassifier as DTC, DecisionTreeRegressor as DTR\n",
        "\n",
        "dtc = DTC(max_depth=5, random_state=2022)\n",
        "dtc.fit(X_train,y_train)\n",
        "dtc_pred=dtc.predict(X_test)\n",
        "dtc_acc=accuracy_score(y_test,dtc_pred)\n",
        "print(dtc_acc)\n",
        "rmse=mean_squared_error(y_test,dtc_pred)\n",
        "print(rmse)"
      ],
      "metadata": {
        "id": "tjywUf3A0SQr",
        "colab": {
          "base_uri": "https://localhost:8080/"
        },
        "outputId": "aae9a1b4-a8d8-4684-85e4-77e9ad3519c9"
      },
      "execution_count": null,
      "outputs": [
        {
          "output_type": "stream",
          "name": "stdout",
          "text": [
            "0.2962962962962963\n",
            "32.148148148148145\n"
          ]
        }
      ]
    },
    {
      "cell_type": "markdown",
      "source": [
        "##3) random forest"
      ],
      "metadata": {
        "id": "8x5GeUv7h0ln"
      }
    },
    {
      "cell_type": "code",
      "source": [
        "from sklearn.ensemble import RandomForestClassifier as RFC, RandomForestRegressor as RFR\n",
        "rfc=RFC(max_depth=5,random_state=2022).fit(X_train,y_train)\n",
        "rfc_pred=rfc.predict(X_test)\n",
        "rfc_acc=accuracy_score(y_test,rfc_pred)\n",
        "\n",
        "rmse=mean_squared_error(y_test,rfc_pred)\n",
        "print(rmse)"
      ],
      "metadata": {
        "id": "9vUG8Xish2zR",
        "colab": {
          "base_uri": "https://localhost:8080/"
        },
        "outputId": "80a5045a-bb4e-4db3-eee5-6e4c1bf877ed"
      },
      "execution_count": null,
      "outputs": [
        {
          "output_type": "stream",
          "name": "stdout",
          "text": [
            "10.037037037037036\n"
          ]
        },
        {
          "output_type": "stream",
          "name": "stderr",
          "text": [
            "<ipython-input-117-0c9ae3a5ec26>:2: DataConversionWarning: A column-vector y was passed when a 1d array was expected. Please change the shape of y to (n_samples,), for example using ravel().\n",
            "  rfc=RFC(max_depth=5,random_state=2022).fit(X_train,y_train)\n"
          ]
        }
      ]
    },
    {
      "cell_type": "markdown",
      "source": [
        "##4) XGboost"
      ],
      "metadata": {
        "id": "MvxkGh4zh3jW"
      }
    },
    {
      "cell_type": "code",
      "source": [
        "pip install xgboost"
      ],
      "metadata": {
        "id": "3VXsO22zh6U3",
        "colab": {
          "base_uri": "https://localhost:8080/"
        },
        "outputId": "7e9abac3-d1e6-430a-e732-c7e8f4474e87"
      },
      "execution_count": null,
      "outputs": [
        {
          "output_type": "stream",
          "name": "stdout",
          "text": [
            "Looking in indexes: https://pypi.org/simple, https://us-python.pkg.dev/colab-wheels/public/simple/\n",
            "Requirement already satisfied: xgboost in /usr/local/lib/python3.8/dist-packages (0.90)\n",
            "Requirement already satisfied: numpy in /usr/local/lib/python3.8/dist-packages (from xgboost) (1.21.6)\n",
            "Requirement already satisfied: scipy in /usr/local/lib/python3.8/dist-packages (from xgboost) (1.7.3)\n"
          ]
        }
      ]
    },
    {
      "cell_type": "code",
      "source": [
        "from xgboost import XGBClassifier as XGBC, XGBRegressor as XGBR\n",
        "xgbc=XGBC(random_state=2022, learning_rate=0.1, max_depth=5).fit(X_train, y_train)\n",
        "xgbr=XGBR(random_state=2022, learning_rate=0.1, max_depth=5).fit(X_train, y_train)"
      ],
      "metadata": {
        "colab": {
          "base_uri": "https://localhost:8080/"
        },
        "id": "npaNB6c3Tg2m",
        "outputId": "bae7fc91-f381-4d66-c08e-bed62daaeece"
      },
      "execution_count": null,
      "outputs": [
        {
          "output_type": "stream",
          "name": "stdout",
          "text": [
            "[12:47:18] WARNING: /workspace/src/objective/regression_obj.cu:152: reg:linear is now deprecated in favor of reg:squarederror.\n"
          ]
        },
        {
          "output_type": "stream",
          "name": "stderr",
          "text": [
            "/usr/local/lib/python3.8/dist-packages/sklearn/preprocessing/_label.py:98: DataConversionWarning: A column-vector y was passed when a 1d array was expected. Please change the shape of y to (n_samples, ), for example using ravel().\n",
            "  y = column_or_1d(y, warn=True)\n",
            "/usr/local/lib/python3.8/dist-packages/sklearn/preprocessing/_label.py:133: DataConversionWarning: A column-vector y was passed when a 1d array was expected. Please change the shape of y to (n_samples, ), for example using ravel().\n",
            "  y = column_or_1d(y, warn=True)\n"
          ]
        }
      ]
    },
    {
      "cell_type": "code",
      "source": [
        "xgbc_pred=xgbc.predict(X_test)\n",
        "xgbr_pred=xgbc.predict(X_test)\n",
        "\n",
        "acc=accuracy_score(xgbc_pred, y_test)\n",
        "rmse=mean_squared_error(xgbr_pred, y_test)\n",
        "print(rmse)"
      ],
      "metadata": {
        "colab": {
          "base_uri": "https://localhost:8080/"
        },
        "id": "rBkrYKYgUCI3",
        "outputId": "d68e8809-304b-4035-d1c5-701189481126"
      },
      "execution_count": null,
      "outputs": [
        {
          "output_type": "stream",
          "name": "stdout",
          "text": [
            "4.185185185185185\n"
          ]
        }
      ]
    },
    {
      "cell_type": "markdown",
      "source": [
        "#5) lightGBM "
      ],
      "metadata": {
        "id": "n8a1P9wQlgNh"
      }
    },
    {
      "cell_type": "code",
      "source": [
        "pip install lightgbm"
      ],
      "metadata": {
        "id": "CTxuaEMYljMx",
        "colab": {
          "base_uri": "https://localhost:8080/"
        },
        "outputId": "97de2b7c-71d9-44c3-b3b8-e8d7cfcb1015"
      },
      "execution_count": null,
      "outputs": [
        {
          "output_type": "stream",
          "name": "stdout",
          "text": [
            "Looking in indexes: https://pypi.org/simple, https://us-python.pkg.dev/colab-wheels/public/simple/\n",
            "Requirement already satisfied: lightgbm in /usr/local/lib/python3.8/dist-packages (2.2.3)\n",
            "Requirement already satisfied: scipy in /usr/local/lib/python3.8/dist-packages (from lightgbm) (1.7.3)\n",
            "Requirement already satisfied: numpy in /usr/local/lib/python3.8/dist-packages (from lightgbm) (1.21.6)\n",
            "Requirement already satisfied: scikit-learn in /usr/local/lib/python3.8/dist-packages (from lightgbm) (1.0.2)\n",
            "Requirement already satisfied: threadpoolctl>=2.0.0 in /usr/local/lib/python3.8/dist-packages (from scikit-learn->lightgbm) (3.1.0)\n",
            "Requirement already satisfied: joblib>=0.11 in /usr/local/lib/python3.8/dist-packages (from scikit-learn->lightgbm) (1.2.0)\n"
          ]
        }
      ]
    },
    {
      "cell_type": "code",
      "source": [
        "from lightgbm import LGBMClassifier as LGBC, LGBMRegressor as LGBR \n",
        "lgbc=LGBC(random_state=2022, learning_rate=0.1, num_leaves=32).fit(X_train,y_train)\n",
        "lgbr=LGBR(random_state=2022, learning_rate=0.1, num_leaves=32).fit(X_train, y_train)"
      ],
      "metadata": {
        "colab": {
          "base_uri": "https://localhost:8080/"
        },
        "id": "k8lSZn56Tf7Y",
        "outputId": "9e7f22d3-b9db-4347-aad4-5390754668db"
      },
      "execution_count": null,
      "outputs": [
        {
          "output_type": "stream",
          "name": "stderr",
          "text": [
            "/usr/local/lib/python3.8/dist-packages/sklearn/preprocessing/_label.py:98: DataConversionWarning: A column-vector y was passed when a 1d array was expected. Please change the shape of y to (n_samples, ), for example using ravel().\n",
            "  y = column_or_1d(y, warn=True)\n",
            "/usr/local/lib/python3.8/dist-packages/sklearn/preprocessing/_label.py:133: DataConversionWarning: A column-vector y was passed when a 1d array was expected. Please change the shape of y to (n_samples, ), for example using ravel().\n",
            "  y = column_or_1d(y, warn=True)\n"
          ]
        }
      ]
    },
    {
      "cell_type": "code",
      "source": [
        "lgbc_pred = lgbc.predict(X_test)\n",
        "lgbr_pred=lgbr.predict(X_test)\n",
        "\n",
        "acc=accuracy_score(lgbc_pred,y_test)\n",
        "\n",
        "rmse=mean_squared_error(lgbr_pred,y_test)\n",
        "print(rmse)"
      ],
      "metadata": {
        "colab": {
          "base_uri": "https://localhost:8080/"
        },
        "id": "YXbmgm9sVc5A",
        "outputId": "6c175f02-187e-4444-a31b-dcd73ac769b1"
      },
      "execution_count": null,
      "outputs": [
        {
          "output_type": "stream",
          "name": "stdout",
          "text": [
            "2.032394665557989\n"
          ]
        }
      ]
    },
    {
      "cell_type": "markdown",
      "source": [
        "#4. 성능 평가 (ft. RMSE 지표) "
      ],
      "metadata": {
        "id": "2NshojFhZI8e"
      }
    },
    {
      "cell_type": "markdown",
      "source": [
        "1) 선형 회귀 (?) \\\n",
        "2) decision tree : 32.148148148148145 \\\n",
        "3) random forest : 10.037037037037036 \\\n",
        "4) XGBoost : 4.185185185185185 \\\n",
        "5) LightGBM : 2.032394665557989 \\\n",
        "\n",
        "\n",
        "분류 성능은 LightGBM(2.032394665557989)이 가장 좋은 것을 알 수 있다."
      ],
      "metadata": {
        "id": "pT2xsbVWVzrS"
      }
    }
  ]
}